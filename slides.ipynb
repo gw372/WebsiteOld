{
 "cells": [
  {
   "cell_type": "markdown",
   "metadata": {
    "slideshow": {
     "slide_type": "slide"
    }
   },
   "source": [
    "# Tutorial Brief\n",
    "\n",
    "Jupyter has an implementation of markdown language that can be used in in markdown cells to create formatted text and media documentation in your notebook. LaTeX is also implemented to create high quality mathematical typeset."
   ]
  },
  {
   "cell_type": "markdown",
   "metadata": {
    "slideshow": {
     "slide_type": "slide"
    }
   },
   "source": [
    "\n",
    "\n",
    "# Markdown\n",
    "\n"
   ]
  },
  {
   "cell_type": "markdown",
   "metadata": {
    "slideshow": {
     "slide_type": "subslide"
    }
   },
   "source": [
    "\n",
    "## Headings\n",
    "\n",
    "# H1\n",
    "## H2\n",
    "### H3\n",
    "#### H4\n",
    "##### H5\n",
    "###### H6\n",
    "\n",
    "**Code:**\n",
    "\n",
    "``` Markdown\n",
    "# H1\n",
    "## H2\n",
    "### H3\n",
    "#### H4\n",
    "##### H5\n",
    "###### H6\n",
    "```"
   ]
  },
  {
   "cell_type": "markdown",
   "metadata": {
    "slideshow": {
     "slide_type": "subslide"
    }
   },
   "source": [
    "\n",
    "## Alternative Headings\n",
    "\n",
    "Heading 1\n",
    "=====\n",
    "Heading 2\n",
    "---------"
   ]
  },
  {
   "cell_type": "markdown",
   "metadata": {
    "slideshow": {
     "slide_type": "subslide"
    }
   },
   "source": [
    "## Font Styles\n",
    "**Bold Font** or __Bold Font__\n",
    "\n",
    "*Italic* or _Italic Font_\n",
    "\n",
    "~~Scratched Text~~\n",
    "\n",
    "Markdown doesn't support underine, but you can do that using HTML <u>Text</u>"
   ]
  },
  {
   "cell_type": "markdown",
   "metadata": {
    "slideshow": {
     "slide_type": "subslide"
    }
   },
   "source": [
    "## Lists\n",
    "- item\n",
    "- item\n",
    "    - subitem\n",
    "    - subitem\n",
    "- item\n",
    "\n",
    "1. item\n",
    "2. item\n",
    "    1. sub item\n",
    "    2. sub item\n",
    "3. item"
   ]
  },
  {
   "cell_type": "markdown",
   "metadata": {
    "slideshow": {
     "slide_type": "subslide"
    }
   },
   "source": [
    "## Links\n",
    "\n",
    "http://www.github.com/\n",
    "\n",
    "[Github](http://www.github.com)"
   ]
  },
  {
   "cell_type": "markdown",
   "metadata": {
    "slideshow": {
     "slide_type": "subslide"
    }
   },
   "source": [
    "## Images\n",
    "![Turing's Device](http://www.google.com/logos/2012/turing-doodle-static.jpg \"Alan Turing's 100th Birthday\")"
   ]
  },
  {
   "cell_type": "markdown",
   "metadata": {
    "slideshow": {
     "slide_type": "subslide"
    }
   },
   "source": [
    "## Quotes\n",
    "> Why, oh why, Javascript??? Wars, famine, planetary destruction... I guess as a species, we deserve this abomination...\n",
    ">\n",
    "> [Fernando Perez](https://twitter.com/fperez_org)"
   ]
  },
  {
   "cell_type": "markdown",
   "metadata": {
    "slideshow": {
     "slide_type": "subslide"
    }
   },
   "source": [
    "## Horizontal Line\n",
    "---"
   ]
  },
  {
   "cell_type": "markdown",
   "metadata": {
    "slideshow": {
     "slide_type": "subslide"
    }
   },
   "source": [
    "## Tables\n",
    "| Tables  | Are           | Cool |\n",
    "| :-------|:-------------:|-----:|\n",
    "| col 3 is| right-aligned | 1600 |\n",
    "| zebra stripes| are neat | 12|\n",
    "| col 1 is| left-aligned | 245|\n",
    "| col 2 is| center-aligned| 234|"
   ]
  },
  {
   "cell_type": "markdown",
   "metadata": {
    "slideshow": {
     "slide_type": "subslide"
    }
   },
   "source": [
    "## HTML\n",
    "<b>You</b> can <i>render</i> almost any <span style=\"color:red;\">HTML</span> code you <u>like</u>."
   ]
  },
  {
   "cell_type": "markdown",
   "metadata": {
    "slideshow": {
     "slide_type": "subslide"
    }
   },
   "source": [
    "## Code\n",
    "\n",
    "You can add in line code like this import numpy as np\n",
    "\n",
    "Or block code:\n",
    "\n",
    "Python Code:\n",
    "\n",
    "```python\n",
    "x = 5\n",
    "print \"%.2f\" % x\n",
    "```\n",
    "Java Script Code:\n",
    "\n",
    "```java\n",
    "x = 5\n",
    "alert(x);\n",
    "```"
   ]
  },
  {
   "cell_type": "markdown",
   "metadata": {
    "slideshow": {
     "slide_type": "slide"
    }
   },
   "source": [
    "# LaTeX"
   ]
  },
  {
   "cell_type": "markdown",
   "metadata": {
    "slideshow": {
     "slide_type": "fragment"
    }
   },
   "source": [
    "**References:**\n",
    "- [LaTeX Wiki]()\n",
    "- [Duke University, Department of Statistical Science]()\n",
    "- [Equation Sheet]()\n",
    "\n",
    "LaTeX is a large typeset system for scientific documentation which symbols for mathematics, statistics, physics, quantum mechanics, and computer science. It is beyond the scope of this tutorial to cover everything, but we will go over the basics of writing high quality mathematical equations using LaTeX.\n",
    "\n",
    "You can use LaTeX in line by like this $y=x^2$ or in block like this\n",
    "$$ y = x^2 $$"
   ]
  },
  {
   "cell_type": "markdown",
   "metadata": {
    "slideshow": {
     "slide_type": "subslide"
    }
   },
   "source": [
    "## Operators:\n",
    "\n",
    "- Add:\n",
    "    - $x+y$\n",
    "- Subtract:\n",
    "    - $x-y$\n",
    "- Multiply:\n",
    "    - $x*y$\n",
    "    - $x \\times y$\n",
    "    - $x . y$\n",
    "- Divide:\n",
    "    - $x / y$\n",
    "    - $x \\div y$\n",
    "    - $x \\over y$"
   ]
  },
  {
   "cell_type": "markdown",
   "metadata": {
    "slideshow": {
     "slide_type": "subslide"
    }
   },
   "source": [
    "## Relations\n",
    "\n",
    "- $\\pi \\approx 3.14159$\n",
    "- ${1 \\over 0} \\neq \\inf$\n",
    "- $0 < x > 1$\n",
    "- $0 \\leq x \\geq 1$"
   ]
  },
  {
   "cell_type": "markdown",
   "metadata": {
    "slideshow": {
     "slide_type": "subslide"
    }
   },
   "source": [
    "## Fractions\n",
    "\n",
    "- $^1/_2$\n",
    "- $1\\over 2x$\n",
    "- $\\frac{1}{2x}$\n",
    "- $3 \\over 4$"
   ]
  },
  {
   "cell_type": "markdown",
   "metadata": {
    "slideshow": {
     "slide_type": "subslide"
    }
   },
   "source": [
    "## Greek Alphabet\n",
    "\n",
    "|Small Letter|Capital Letter|Alervative|\n",
    "|:-----------:|:-------------:|:---------:|\n",
    "|$\\alpha$| $A$ | |\n",
    "|$\\beta$ |$B$ | |\n",
    "|$\\gamma$|$\\Gamma$||\n",
    "|$\\delta$|$\\Delta$||\n",
    "|$\\epsilon$|$E$|$\\varepsilon$|\n",
    "|$\\zeta$|$Z$||\n",
    "|$\\eta$|$H$||\n",
    "|$\\theta$|$\\Theta$|$\\vartheta$|\n",
    "|$\\zeta$|$I$||\n",
    "|$\\kappa$|$K$|$\\varkappa$|\n",
    "|$\\lambda$|$\\Lambda$||\n",
    "|$\\mu$|$M$||\n",
    "|$nu$|$N$||\n",
    "|$\\xi$|$\\Xi$||\n",
    "|$\\omicron$|$O$||\n",
    "|$\\pi$|$\\Pi$|$\\varpi$|\n",
    "|$\\rho$|$P$|$\\varrho$|\n",
    "|$\\sigma$|$\\Sigma$|$\\varsigma$|\n",
    "|$\\tau$|$T$||\n",
    "|$\\upsilon$|$\\Upsilon$||\n",
    "|$\\phi$|$\\Phi$|$\\varphi$|\n",
    "|$\\chi$|$X$||\n",
    "|$\\psi$|$\\Psi$||\n",
    "|$\\omega$|$\\Omega$||"
   ]
  },
  {
   "cell_type": "markdown",
   "metadata": {
    "slideshow": {
     "slide_type": "subslide"
    }
   },
   "source": [
    "## Power & Index\n",
    "\n",
    "You can add power using the carrot ^ symbol. If you have more than one character you have to enclose them in a curly brackets.\n",
    "\n",
    "$$ f(x)=x^2-x^{1 \\over \\pi} $$\n",
    "\n",
    "For index you can use the underscore symbol:\n",
    "\n",
    "$$ f(X,n)=X_n+X_{n-1} $$"
   ]
  },
  {
   "cell_type": "markdown",
   "metadata": {
    "slideshow": {
     "slide_type": "subslide"
    }
   },
   "source": [
    "## Roots & Log\n",
    "\n",
    "You can express a square root in LaTeX using the \\sqrt and to change the level of the root you can use \\sqrt[n] where n is the level of the root.\n",
    "\n",
    "$$ f(X)=\\sqrt[3]{2x}+\\sqrt{x-2} $$\n",
    "\n",
    "To represent a log use \\log[base] where base is the base of the logarithmic term.\n",
    "\n",
    "$$ \\log[2]{x}=1$$\n",
    "\n",
    "**This is wired!**"
   ]
  },
  {
   "cell_type": "markdown",
   "metadata": {
    "slideshow": {
     "slide_type": "subslide"
    }
   },
   "source": [
    "## Sums & Products\n",
    "\n",
    "$$\\sum\\limits_{x=1}^{\\infty} {1 \\over x} = 2$$\n",
    "\n",
    "$$\\prod\\limits_{i=1}^{n}{x_i-1}$$"
   ]
  },
  {
   "cell_type": "markdown",
   "metadata": {
    "slideshow": {
     "slide_type": "subslide"
    }
   },
   "source": [
    "## Statistics\n",
    "\n",
    "$$ max(S) = \\max\\limits_{i:S_i \\in S}{S_i}$$\n",
    "\n",
    "$$ min(S)=\\min\\limits_{i:S_i \\in S}{S_i} $$\n",
    "\n",
    "$$ \\frac{n!}{k!(n-k)!}= {n \\choose k} $$"
   ]
  },
  {
   "cell_type": "markdown",
   "metadata": {
    "slideshow": {
     "slide_type": "subslide"
    }
   },
   "source": [
    "## Calculus\n",
    "\n",
    "$$ \\lim\\limits_{x \\to 0^+}{1 \\over 0} = \\infty $$\n",
    "\n",
    "$$ \\int\\limits_a^b {2x\\, dx}$$"
   ]
  },
  {
   "cell_type": "markdown",
   "metadata": {
    "slideshow": {
     "slide_type": "subslide"
    }
   },
   "source": [
    "## Function definition over periods\n",
    "\n",
    "Defining a function that is calculated differently over a number of period can done using LaTeX. There are a few tricks that we will use to do that:\n",
    "\n",
    "- The large curly bracket `\\left\\{ ... \\right`. Notice it you want to use `(` or `[` you don't have to add a back slash(`\\`). You can also place a right side matching bracket by replacing the `.` after `\\right` like this `\\right}`\n",
    "\n",
    "- Array to hold the definitions in place. it has two columns with left alignment. `\\begin{array}{ll} ...\\end{array}`\n",
    "\n",
    "- Line Breaker `\\\\`\n",
    "\n",
    "- Text alignment box `\\mbox{Text}`\n",
    "\n",
    "$$ f(x) =\n",
    "\\left\\{\n",
    "    \\begin{array}{}\n",
    "        0 & if\\, x = 0 \\\\\n",
    "        1 \\over x & if\\, x \\neq 0\n",
    "    \\end{array}\n",
    "\\right.$$\n"
   ]
  },
  {
   "cell_type": "markdown",
   "metadata": {
    "slideshow": {
     "slide_type": "subslide"
    }
   },
   "source": [
    "## Quick Quiz (Normal Distribution)\n",
    "\n",
    "$$\n",
    "P(x, \\sigma, \\mu) = \\frac{1}{\\sigma\\sqrt{2\\pi}}e^{-(x-\\mu)^2/2\\sigma^2}\n",
    "$$"
   ]
  }
 ],
 "metadata": {
  "celltoolbar": "Slideshow",
  "kernelspec": {
   "display_name": "Julia 0.5.0",
   "language": "julia",
   "name": "julia-0.5"
  },
  "language_info": {
   "file_extension": ".jl",
   "mimetype": "application/julia",
   "name": "julia",
   "version": "0.5.2"
  },
  "livereveal": {
   "controls": "true",
   "history": "true",
   "mouseWheel": "true",
   "overview": "true",
   "progress": "true",
   "scroll": "true",
   "start_slideshow_at": "selected",
   "transition": "zoom"
  }
 },
 "nbformat": 4,
 "nbformat_minor": 1
}
